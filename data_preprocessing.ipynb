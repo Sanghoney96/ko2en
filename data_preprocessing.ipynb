{
 "cells": [
  {
   "cell_type": "code",
   "execution_count": 2,
   "metadata": {},
   "outputs": [],
   "source": [
    "import pandas as pd\n",
    "from utils import preprocess_text\n",
    "import random"
   ]
  },
  {
   "cell_type": "code",
   "execution_count": 3,
   "metadata": {},
   "outputs": [
    {
     "data": {
      "text/html": [
       "<div>\n",
       "<style scoped>\n",
       "    .dataframe tbody tr th:only-of-type {\n",
       "        vertical-align: middle;\n",
       "    }\n",
       "\n",
       "    .dataframe tbody tr th {\n",
       "        vertical-align: top;\n",
       "    }\n",
       "\n",
       "    .dataframe thead th {\n",
       "        text-align: right;\n",
       "    }\n",
       "</style>\n",
       "<table border=\"1\" class=\"dataframe\">\n",
       "  <thead>\n",
       "    <tr style=\"text-align: right;\">\n",
       "      <th></th>\n",
       "      <th>원문</th>\n",
       "      <th>번역문</th>\n",
       "    </tr>\n",
       "  </thead>\n",
       "  <tbody>\n",
       "    <tr>\n",
       "      <th>402135</th>\n",
       "      <td>괜히 내가 이 고생을 왜 하고 있는지 모르겠다.</td>\n",
       "      <td>I don't know why I'm suffering from this.</td>\n",
       "    </tr>\n",
       "    <tr>\n",
       "      <th>754266</th>\n",
       "      <td>작년 11월 9차 협의에서 일정 수준 접점을 찾았던 협상은 10차 회의에서 미국이 ...</td>\n",
       "      <td>The negotiations, which reached a certain leve...</td>\n",
       "    </tr>\n",
       "    <tr>\n",
       "      <th>240350</th>\n",
       "      <td>와이프가 흥이 넘치는 분인데, 개인 레슨을 받았다.</td>\n",
       "      <td>His wife is full of energy, and she took priva...</td>\n",
       "    </tr>\n",
       "    <tr>\n",
       "      <th>747014</th>\n",
       "      <td>애초에 산업제품의 원형을 디자인하려는 의도는 모호이-너지가 이끈 금속공방의 조명디자...</td>\n",
       "      <td>Originally the intention was to design prototy...</td>\n",
       "    </tr>\n",
       "    <tr>\n",
       "      <th>99291</th>\n",
       "      <td>내년 1월2일 퇴임을 앞둔 존 켈리 미 백악관 비서실장이 도널드 트럼프 대통령과 함...</td>\n",
       "      <td>U.S. White House Chief of Staff John Kelly, wh...</td>\n",
       "    </tr>\n",
       "  </tbody>\n",
       "</table>\n",
       "</div>"
      ],
      "text/plain": [
       "                                                       원문  \\\n",
       "402135                         괜히 내가 이 고생을 왜 하고 있는지 모르겠다.   \n",
       "754266  작년 11월 9차 협의에서 일정 수준 접점을 찾았던 협상은 10차 회의에서 미국이 ...   \n",
       "240350                       와이프가 흥이 넘치는 분인데, 개인 레슨을 받았다.   \n",
       "747014  애초에 산업제품의 원형을 디자인하려는 의도는 모호이-너지가 이끈 금속공방의 조명디자...   \n",
       "99291   내년 1월2일 퇴임을 앞둔 존 켈리 미 백악관 비서실장이 도널드 트럼프 대통령과 함...   \n",
       "\n",
       "                                                      번역문  \n",
       "402135          I don't know why I'm suffering from this.  \n",
       "754266  The negotiations, which reached a certain leve...  \n",
       "240350  His wife is full of energy, and she took priva...  \n",
       "747014  Originally the intention was to design prototy...  \n",
       "99291   U.S. White House Chief of Staff John Kelly, wh...  "
      ]
     },
     "execution_count": 3,
     "metadata": {},
     "output_type": "execute_result"
    }
   ],
   "source": [
    "data_dir = \"data/aihub_news_data.csv\"\n",
    "\n",
    "df = pd.read_csv(data_dir)\n",
    "df.sample(5)"
   ]
  },
  {
   "cell_type": "code",
   "execution_count": 4,
   "metadata": {},
   "outputs": [
    {
     "name": "stdout",
     "output_type": "stream",
     "text": [
      "801387\n"
     ]
    }
   ],
   "source": [
    "print(len(df))"
   ]
  },
  {
   "cell_type": "code",
   "execution_count": 5,
   "metadata": {},
   "outputs": [
    {
     "name": "stdout",
     "output_type": "stream",
     "text": [
      "Original Korean Text: 갤럭시부품주 테마는 중장기측면에서 횡보하는 모습이 길어지고 있는데 반해, 태양광 관련주 테마는 하락세가 약해지는 모습이 관찰되고 있다.\n",
      "Processed Korean Text: 갤럭시부품주 테마는 중장기측면에서 횡보하는 모습이 길어지고 있는데 반해 태양광 관련주 테마는 하락세가 약해지는 모습이 관찰되고 있다.\n",
      "Original English Text: Galaxy parts stocks related theme tend to be sideways in terms of the mid and long term, while solar-related stocks tend to decline.\n",
      "Processed English Text: Galaxy parts stocks related theme tend to be sideways in terms of the mid and long term while solar related stocks tend to decline.\n"
     ]
    }
   ],
   "source": [
    "idx = random.randint(0, len(df) - 1)\n",
    "\n",
    "processed_ko_text = preprocess_text(df[\"원문\"][idx], lang=\"ko\")\n",
    "processed_en_text = preprocess_text(df[\"번역문\"][idx], lang=\"en\")\n",
    "\n",
    "print(\"Original Korean Text:\", df[\"원문\"][idx])\n",
    "print(\"Processed Korean Text:\", processed_ko_text)\n",
    "print(\"Original English Text:\", df[\"번역문\"][idx])\n",
    "print(\"Processed English Text:\", processed_en_text)"
   ]
  },
  {
   "cell_type": "code",
   "execution_count": 6,
   "metadata": {},
   "outputs": [
    {
     "name": "stderr",
     "output_type": "stream",
     "text": [
      "/home/masang/anaconda3/envs/torchenv/lib/python3.10/site-packages/tqdm/auto.py:21: TqdmWarning: IProgress not found. Please update jupyter and ipywidgets. See https://ipywidgets.readthedocs.io/en/stable/user_install.html\n",
      "  from .autonotebook import tqdm as notebook_tqdm\n"
     ]
    }
   ],
   "source": [
    "from transformers import AutoTokenizer\n",
    "\n",
    "ko_tokenizer = AutoTokenizer.from_pretrained(\"klue/bert-base\")\n",
    "en_tokenizer = AutoTokenizer.from_pretrained(\"bert-base-uncased\")"
   ]
  },
  {
   "cell_type": "code",
   "execution_count": 7,
   "metadata": {},
   "outputs": [
    {
     "name": "stdout",
     "output_type": "stream",
     "text": [
      "토큰화된 텍스트: ['갤럭시', '##부', '##품', '##주', '테마', '##는', '중장', '##기', '##측', '##면', '##에서', '횡', '##보', '##하', '##는', '모습', '##이', '길', '##어지', '##고', '있', '##는데', '반해', '태양광', '관련', '##주', '테마', '##는', '하락세', '##가', '약해', '##지', '##는', '모습', '##이', '관찰', '##되', '##고', '있', '##다', '.']\n",
      "정수 인덱스로 변환된 토큰: [7275, 2144, 2425, 2223, 6507, 2259, 15093, 2015, 3033, 2460, 27135, 1941, 2178, 2205, 2259, 3781, 2052, 647, 4379, 2088, 1513, 13964, 9564, 8057, 3700, 2223, 6507, 2259, 11652, 2116, 10352, 2118, 2259, 3781, 2052, 6172, 2496, 2088, 1513, 2062, 18]\n"
     ]
    }
   ],
   "source": [
    "# 텍스트를 토큰화\n",
    "ko_tokens = ko_tokenizer.tokenize(processed_ko_text)\n",
    "print(\"토큰화된 텍스트:\", ko_tokens)\n",
    "\n",
    "# 토큰을 정수 인덱스로 변환\n",
    "ko_input_ids = ko_tokenizer.convert_tokens_to_ids(ko_tokens)\n",
    "print(\"정수 인덱스로 변환된 토큰:\", ko_input_ids)"
   ]
  },
  {
   "cell_type": "code",
   "execution_count": 8,
   "metadata": {},
   "outputs": [
    {
     "name": "stdout",
     "output_type": "stream",
     "text": [
      "토큰화된 텍스트: ['galaxy', 'parts', 'stocks', 'related', 'theme', 'tend', 'to', 'be', 'sideways', 'in', 'terms', 'of', 'the', 'mid', 'and', 'long', 'term', 'while', 'solar', 'related', 'stocks', 'tend', 'to', 'decline', '.']\n",
      "정수 인덱스로 변환된 토큰: [9088, 3033, 15768, 3141, 4323, 7166, 2000, 2022, 12579, 1999, 3408, 1997, 1996, 3054, 1998, 2146, 2744, 2096, 5943, 3141, 15768, 7166, 2000, 6689, 1012]\n"
     ]
    }
   ],
   "source": [
    "# 텍스트를 토큰화\n",
    "en_tokens = en_tokenizer.tokenize(processed_en_text)\n",
    "print(\"토큰화된 텍스트:\", en_tokens)\n",
    "\n",
    "# 토큰을 정수 인덱스로 변환\n",
    "en_input_ids = en_tokenizer.convert_tokens_to_ids(en_tokens)\n",
    "print(\"정수 인덱스로 변환된 토큰:\", en_input_ids)"
   ]
  },
  {
   "cell_type": "code",
   "execution_count": 9,
   "metadata": {},
   "outputs": [
    {
     "name": "stdout",
     "output_type": "stream",
     "text": [
      "25\n"
     ]
    }
   ],
   "source": [
    "print(len(en_input_ids))"
   ]
  },
  {
   "cell_type": "code",
   "execution_count": null,
   "metadata": {},
   "outputs": [],
   "source": []
  }
 ],
 "metadata": {
  "kernelspec": {
   "display_name": "torchenv",
   "language": "python",
   "name": "python3"
  },
  "language_info": {
   "codemirror_mode": {
    "name": "ipython",
    "version": 3
   },
   "file_extension": ".py",
   "mimetype": "text/x-python",
   "name": "python",
   "nbconvert_exporter": "python",
   "pygments_lexer": "ipython3",
   "version": "3.10.15"
  }
 },
 "nbformat": 4,
 "nbformat_minor": 2
}
