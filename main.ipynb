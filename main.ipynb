{
 "cells": [
  {
   "cell_type": "code",
   "execution_count": 1,
   "metadata": {},
   "outputs": [
    {
     "name": "stderr",
     "output_type": "stream",
     "text": [
      "/home/masang/anaconda3/envs/torchenv/lib/python3.10/site-packages/tqdm/auto.py:21: TqdmWarning: IProgress not found. Please update jupyter and ipywidgets. See https://ipywidgets.readthedocs.io/en/stable/user_install.html\n",
      "  from .autonotebook import tqdm as notebook_tqdm\n"
     ]
    }
   ],
   "source": [
    "import pandas as pd\n",
    "import numpy as np\n",
    "import matplotlib.pyplot as plt\n",
    "from utils import preprocess_text\n",
    "import random\n",
    "import tqdm\n",
    "from sklearn.model_selection import train_test_split\n",
    "\n",
    "from models.transformer import Transformer\n",
    "from data.collate_fn import collate_fn\n",
    "\n",
    "import torch\n",
    "\n",
    "from data.dataset import AihubTranslationDataset\n",
    "from torch.utils.data import DataLoader"
   ]
  },
  {
   "cell_type": "markdown",
   "metadata": {},
   "source": [
    "#### 데이터 전처리"
   ]
  },
  {
   "cell_type": "code",
   "execution_count": 2,
   "metadata": {},
   "outputs": [],
   "source": [
    "# Dataset\n",
    "train_ds = AihubTranslationDataset(\n",
    "    csv_path=\"ai_hub_dataset/train_filtered.csv\",\n",
    "    preprocess_fn=preprocess_text,\n",
    "    max_len=60,\n",
    "    add_special_tokens=True,\n",
    ")"
   ]
  },
  {
   "cell_type": "code",
   "execution_count": 3,
   "metadata": {},
   "outputs": [
    {
     "name": "stdout",
     "output_type": "stream",
     "text": [
      "tensor([  101,  2009,  2003,  2036,  2691,  2005,  1037,  7968,  2158,  2000,\n",
      "         2022,  8040, 27479,  2030,  2191, 13219,  6567,  1012,   102])\n"
     ]
    }
   ],
   "source": [
    "print(train_ds[1972][\"tgt_ids\"])"
   ]
  },
  {
   "cell_type": "code",
   "execution_count": 4,
   "metadata": {},
   "outputs": [],
   "source": [
    "train_loader = DataLoader(\n",
    "    dataset=train_ds, batch_size=2, shuffle=True, collate_fn=collate_fn\n",
    ")"
   ]
  },
  {
   "cell_type": "code",
   "execution_count": 5,
   "metadata": {},
   "outputs": [
    {
     "name": "stdout",
     "output_type": "stream",
     "text": [
      "{'encoder_input_ids': tensor([[ 7102,  2255,  2116,  5419,  2470,  5586,  2259,  3814, 13513,  2121,\n",
      "         27135,  4306,    26,  2517,  3135,  9742,  2507,  2062,    18,     0,\n",
      "             0,     0,     0,     0,     0,     0,     0,     0,     0,     0,\n",
      "             0,     0,     0,     0,     0,     0,     0,     0,     0,     0,\n",
      "             0,     0,     0,     0,     0,     0,     0,     0,     0,     0,\n",
      "             0,     0],\n",
      "        [14034,  2069,  1343,  2259,  6442, 15351,  1154,  2093,  2138,  1343,\n",
      "          2227, 26914,  2259,    23,  2134,  2515,  2466,  2115,  2116,  4454,\n",
      "         31302,  2259,  1902,  3683,  1504,  2031,  4081, 27135,  4477, 13582,\n",
      "          2069,  4976,  2205,  2259,   842,  2259,  3919,  2119, 15804, 18699,\n",
      "          2155,  2079,  4480,  2470, 11117,  2052,  4807, 11187,  3677,  2205,\n",
      "          2062,    18]]), 'decoder_input_ids': tensor([[  101,  1996,  2522,  5428,  3366,  2679,  2001,  1996,  4369,  1997,\n",
      "          2049,  2785,  2012,  1996, 28435,  2008,  2154,  1012,     0,     0,\n",
      "             0,     0,     0,     0,     0,     0,     0,     0],\n",
      "        [  101,  2348,  5318,  2311, 13507,  1998,  2813,  2311,  7605, 23557,\n",
      "          2031,  6003,  2009,  2003,  2145,  7078,  4072,  2005, 10571,  3667,\n",
      "          2000,  3143,  2312,  5090,  2012,  2122,  4573,  1012]]), 'label_ids': tensor([[ 1996,  2522,  5428,  3366,  2679,  2001,  1996,  4369,  1997,  2049,\n",
      "          2785,  2012,  1996, 28435,  2008,  2154,  1012,   102,     0,     0,\n",
      "             0,     0,     0,     0,     0,     0,     0,     0],\n",
      "        [ 2348,  5318,  2311, 13507,  1998,  2813,  2311,  7605, 23557,  2031,\n",
      "          6003,  2009,  2003,  2145,  7078,  4072,  2005, 10571,  3667,  2000,\n",
      "          3143,  2312,  5090,  2012,  2122,  4573,  1012,   102]])}\n"
     ]
    }
   ],
   "source": [
    "for batch in train_loader:\n",
    "    print(batch)\n",
    "    break"
   ]
  },
  {
   "cell_type": "markdown",
   "metadata": {},
   "source": [
    "#### 모델 학습"
   ]
  },
  {
   "cell_type": "code",
   "execution_count": 13,
   "metadata": {},
   "outputs": [],
   "source": [
    "from torch.optim import Adam\n",
    "from train.lr_scheduler import NoamLR"
   ]
  },
  {
   "cell_type": "code",
   "execution_count": null,
   "metadata": {},
   "outputs": [],
   "source": [
    "# 디바이스 설정\n",
    "device = torch.device(\"cuda\" if torch.cuda.is_available() else \"cpu\")\n",
    "\n",
    "# 모델 생성 및 디바이스 이동\n",
    "model = Transformer(\n",
    "    src_vocab_size=32000,  # \"klue/bert-base\" tokenizer vocab_size\n",
    "    tgt_vocab_size=30522,  # \"bert-base-uncased\" tokenizer vocab_size\n",
    "    src_len=60,  # 인코더 입력 길이 제한\n",
    "    tgt_len=60,  # 디코더 입력 길이 제한\n",
    "    d_model=512,\n",
    "    d_ff=2048,\n",
    "    n_heads=8,\n",
    "    num_encoder_layers=6,\n",
    "    num_decoder_layers=6,\n",
    "    dropout=0.3,\n",
    ").to(device)"
   ]
  },
  {
   "cell_type": "code",
   "execution_count": null,
   "metadata": {},
   "outputs": [],
   "source": [
    "# optimizer & lr scheduler 정의\n",
    "optimizer = torch.optim.Adam(model.parameters(), lr=1, betas=(0.9, 0.98), eps=1e-9)\n",
    "\n",
    "scheduler = NoamLR(optimizer, d_model=512, warmup_steps=4000)"
   ]
  },
  {
   "cell_type": "code",
   "execution_count": null,
   "metadata": {},
   "outputs": [],
   "source": []
  }
 ],
 "metadata": {
  "kernelspec": {
   "display_name": "torchenv",
   "language": "python",
   "name": "python3"
  },
  "language_info": {
   "codemirror_mode": {
    "name": "ipython",
    "version": 3
   },
   "file_extension": ".py",
   "mimetype": "text/x-python",
   "name": "python",
   "nbconvert_exporter": "python",
   "pygments_lexer": "ipython3",
   "version": "3.10.15"
  }
 },
 "nbformat": 4,
 "nbformat_minor": 2
}
