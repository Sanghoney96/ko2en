{
 "cells": [
  {
   "cell_type": "code",
   "execution_count": 1,
   "metadata": {},
   "outputs": [],
   "source": [
    "import pandas as pd\n",
    "from utils import preprocess_text\n",
    "import random"
   ]
  },
  {
   "cell_type": "code",
   "execution_count": 2,
   "metadata": {},
   "outputs": [
    {
     "data": {
      "text/html": [
       "<div>\n",
       "<style scoped>\n",
       "    .dataframe tbody tr th:only-of-type {\n",
       "        vertical-align: middle;\n",
       "    }\n",
       "\n",
       "    .dataframe tbody tr th {\n",
       "        vertical-align: top;\n",
       "    }\n",
       "\n",
       "    .dataframe thead th {\n",
       "        text-align: right;\n",
       "    }\n",
       "</style>\n",
       "<table border=\"1\" class=\"dataframe\">\n",
       "  <thead>\n",
       "    <tr style=\"text-align: right;\">\n",
       "      <th></th>\n",
       "      <th>원문</th>\n",
       "      <th>번역문</th>\n",
       "    </tr>\n",
       "  </thead>\n",
       "  <tbody>\n",
       "    <tr>\n",
       "      <th>85298</th>\n",
       "      <td>지난해에 이어 두 번째로 실시한 이번 행사에는 에어부산 캐빈승무원들과 대구지점 봉사...</td>\n",
       "      <td>The event, the second of its kind since last y...</td>\n",
       "    </tr>\n",
       "    <tr>\n",
       "      <th>49203</th>\n",
       "      <td>그나마 정부가 가격을 통제하는 전기·수도·가스 가격은 3.3% 하락하면서 지난해 1...</td>\n",
       "      <td>At least, prices of electricity, water and gas...</td>\n",
       "    </tr>\n",
       "    <tr>\n",
       "      <th>79217</th>\n",
       "      <td>나는 박길종과 김윤하가 작업을 시작한 시기부터 줄곧 보아왔는데 처음엔 그들이 제작하...</td>\n",
       "      <td>I've seen Park Gil-jong and Kim Yoon-ha since ...</td>\n",
       "    </tr>\n",
       "    <tr>\n",
       "      <th>591550</th>\n",
       "      <td>국토부 부동산평가과 관계자는 “종부세는 1주택보다는 다주택자에게 많이 부과되고, 셈...</td>\n",
       "      <td>\"The comprehensive data will not be available ...</td>\n",
       "    </tr>\n",
       "    <tr>\n",
       "      <th>289901</th>\n",
       "      <td>지구에서 밤하늘의 달과 별을 바라보며 꿈을 꾸던 사람들이 있었다.</td>\n",
       "      <td>There were people on the Earth who dreamed whi...</td>\n",
       "    </tr>\n",
       "  </tbody>\n",
       "</table>\n",
       "</div>"
      ],
      "text/plain": [
       "                                                       원문  \\\n",
       "85298   지난해에 이어 두 번째로 실시한 이번 행사에는 에어부산 캐빈승무원들과 대구지점 봉사...   \n",
       "49203   그나마 정부가 가격을 통제하는 전기·수도·가스 가격은 3.3% 하락하면서 지난해 1...   \n",
       "79217   나는 박길종과 김윤하가 작업을 시작한 시기부터 줄곧 보아왔는데 처음엔 그들이 제작하...   \n",
       "591550  국토부 부동산평가과 관계자는 “종부세는 1주택보다는 다주택자에게 많이 부과되고, 셈...   \n",
       "289901               지구에서 밤하늘의 달과 별을 바라보며 꿈을 꾸던 사람들이 있었다.   \n",
       "\n",
       "                                                      번역문  \n",
       "85298   The event, the second of its kind since last y...  \n",
       "49203   At least, prices of electricity, water and gas...  \n",
       "79217   I've seen Park Gil-jong and Kim Yoon-ha since ...  \n",
       "591550  \"The comprehensive data will not be available ...  \n",
       "289901  There were people on the Earth who dreamed whi...  "
      ]
     },
     "execution_count": 2,
     "metadata": {},
     "output_type": "execute_result"
    }
   ],
   "source": [
    "data_dir = \"/Users/masang/Desktop/side-projects/ko2en/data/aihub_news_data.csv\"\n",
    "\n",
    "df = pd.read_csv(data_dir)\n",
    "df.sample(5)"
   ]
  },
  {
   "cell_type": "code",
   "execution_count": 3,
   "metadata": {},
   "outputs": [
    {
     "name": "stdout",
     "output_type": "stream",
     "text": [
      "801387\n"
     ]
    }
   ],
   "source": [
    "print(len(df))"
   ]
  },
  {
   "cell_type": "code",
   "execution_count": 17,
   "metadata": {},
   "outputs": [
    {
     "name": "stdout",
     "output_type": "stream",
     "text": [
      "Original Korean Text: 김 참모총장도 “장병들이 청춘책방에서 미래를 잘 준비해 전역 후에는 국가 발전을 선도하는 혁신적 인재로 클 수 있길 기대한다”고 말했다.\n",
      "Processed Korean Text: 김 참모총장도 장병들이 청춘책방에서 미래를 잘 준비해 전역 후에는 국가 발전을 선도하는 혁신적 인재로 클 수 있길 기대한다 고 말했다.\n",
      "Original English Text: \"We hope that the generals will prepare well for the future in the youth bookstore and grow up to be innovative people who lead the nation's development after they leave the military,\" the chief of staff Kim said.\n",
      "Processed English Text: We hope that the generals will prepare well for the future in the youth bookstore and grow up to be innovative people who lead the nation's development after they leave the military the chief of staff Kim said.\n"
     ]
    }
   ],
   "source": [
    "idx = random.randint(0, len(df) - 1)\n",
    "\n",
    "processed_ko_text = preprocess_text(df['원문'][idx], lang='ko')\n",
    "processed_en_text = preprocess_text(df['번역문'][idx], lang='en')\n",
    "\n",
    "print(\"Original Korean Text:\", df['원문'][idx])\n",
    "print(\"Processed Korean Text:\", processed_ko_text)\n",
    "print(\"Original English Text:\", df['번역문'][idx])\n",
    "print(\"Processed English Text:\", processed_en_text)"
   ]
  },
  {
   "cell_type": "code",
   "execution_count": null,
   "metadata": {},
   "outputs": [],
   "source": []
  }
 ],
 "metadata": {
  "kernelspec": {
   "display_name": "learning",
   "language": "python",
   "name": "python3"
  },
  "language_info": {
   "codemirror_mode": {
    "name": "ipython",
    "version": 3
   },
   "file_extension": ".py",
   "mimetype": "text/x-python",
   "name": "python",
   "nbconvert_exporter": "python",
   "pygments_lexer": "ipython3",
   "version": "3.8.17"
  }
 },
 "nbformat": 4,
 "nbformat_minor": 2
}
